{
 "cells": [
  {
   "cell_type": "code",
   "execution_count": 1,
   "metadata": {},
   "outputs": [],
   "source": [
    "%reload_ext autoreload\n",
    "%autoreload 2\n",
    "%matplotlib inline"
   ]
  },
  {
   "cell_type": "code",
   "execution_count": 1,
   "metadata": {},
   "outputs": [
    {
     "name": "stdout",
     "output_type": "stream",
     "text": [
      "Looking in indexes: https://pypi.org/simple, https://pypi.ngc.nvidia.com\n",
      "Requirement already satisfied: lightning-flash in /home/david/miniforge3/envs/solar-bdappv/lib/python3.10/site-packages (0.8.2)\n",
      "Requirement already satisfied: packaging in /home/david/miniforge3/envs/solar-bdappv/lib/python3.10/site-packages (from lightning-flash) (21.3)\n",
      "Requirement already satisfied: setuptools in /home/david/miniforge3/envs/solar-bdappv/lib/python3.10/site-packages (from lightning-flash) (68.0.0)\n",
      "Requirement already satisfied: numpy in /home/david/miniforge3/envs/solar-bdappv/lib/python3.10/site-packages (from lightning-flash) (1.22.3)\n",
      "Requirement already satisfied: torch>1.7.0 in /home/david/miniforge3/envs/solar-bdappv/lib/python3.10/site-packages (from lightning-flash) (2.0.1)\n",
      "Requirement already satisfied: torchmetrics<0.11.0,>0.7.0 in /home/david/miniforge3/envs/solar-bdappv/lib/python3.10/site-packages (from lightning-flash) (0.10.3)\n",
      "Requirement already satisfied: pytorch-lightning<2.0.0,>1.8.0 in /home/david/miniforge3/envs/solar-bdappv/lib/python3.10/site-packages (from lightning-flash) (1.9.5)\n",
      "Requirement already satisfied: pyDeprecate>0.2.0 in /home/david/miniforge3/envs/solar-bdappv/lib/python3.10/site-packages (from lightning-flash) (0.3.2)\n",
      "Requirement already satisfied: pandas>1.1.0 in /home/david/miniforge3/envs/solar-bdappv/lib/python3.10/site-packages (from lightning-flash) (1.4.2)\n",
      "Requirement already satisfied: jsonargparse[signatures]>=4.22.0 in /home/david/miniforge3/envs/solar-bdappv/lib/python3.10/site-packages (from lightning-flash) (4.22.1)\n",
      "Requirement already satisfied: click>=7.1.2 in /home/david/miniforge3/envs/solar-bdappv/lib/python3.10/site-packages (from lightning-flash) (8.1.6)\n",
      "Requirement already satisfied: protobuf in /home/david/miniforge3/envs/solar-bdappv/lib/python3.10/site-packages (from lightning-flash) (4.23.4)\n",
      "Requirement already satisfied: fsspec[http]>=2022.5.0 in /home/david/miniforge3/envs/solar-bdappv/lib/python3.10/site-packages (from lightning-flash) (2023.6.0)\n",
      "Requirement already satisfied: lightning-utilities>=0.4.1 in /home/david/miniforge3/envs/solar-bdappv/lib/python3.10/site-packages (from lightning-flash) (0.9.0)\n",
      "Requirement already satisfied: requests in /home/david/miniforge3/envs/solar-bdappv/lib/python3.10/site-packages (from fsspec[http]>=2022.5.0->lightning-flash) (2.31.0)\n",
      "Requirement already satisfied: aiohttp!=4.0.0a0,!=4.0.0a1 in /home/david/miniforge3/envs/solar-bdappv/lib/python3.10/site-packages (from fsspec[http]>=2022.5.0->lightning-flash) (3.8.5)\n",
      "Requirement already satisfied: PyYAML>=3.13 in /home/david/miniforge3/envs/solar-bdappv/lib/python3.10/site-packages (from jsonargparse[signatures]>=4.22.0->lightning-flash) (6.0.1)\n",
      "Requirement already satisfied: docstring-parser>=0.15 in /home/david/miniforge3/envs/solar-bdappv/lib/python3.10/site-packages (from jsonargparse[signatures]>=4.22.0->lightning-flash) (0.15)\n",
      "Requirement already satisfied: typeshed-client>=2.1.0 in /home/david/miniforge3/envs/solar-bdappv/lib/python3.10/site-packages (from jsonargparse[signatures]>=4.22.0->lightning-flash) (2.3.0)\n",
      "Requirement already satisfied: typing-extensions in /home/david/miniforge3/envs/solar-bdappv/lib/python3.10/site-packages (from lightning-utilities>=0.4.1->lightning-flash) (4.7.1)\n",
      "Requirement already satisfied: pyparsing!=3.0.5,>=2.0.2 in /home/david/miniforge3/envs/solar-bdappv/lib/python3.10/site-packages (from packaging->lightning-flash) (3.0.9)\n",
      "Requirement already satisfied: python-dateutil>=2.8.1 in /home/david/miniforge3/envs/solar-bdappv/lib/python3.10/site-packages (from pandas>1.1.0->lightning-flash) (2.8.2)\n",
      "Requirement already satisfied: pytz>=2020.1 in /home/david/miniforge3/envs/solar-bdappv/lib/python3.10/site-packages (from pandas>1.1.0->lightning-flash) (2022.1)\n",
      "Requirement already satisfied: tqdm>=4.57.0 in /home/david/miniforge3/envs/solar-bdappv/lib/python3.10/site-packages (from pytorch-lightning<2.0.0,>1.8.0->lightning-flash) (4.64.0)\n",
      "Requirement already satisfied: filelock in /home/david/miniforge3/envs/solar-bdappv/lib/python3.10/site-packages (from torch>1.7.0->lightning-flash) (3.12.2)\n",
      "Requirement already satisfied: sympy in /home/david/miniforge3/envs/solar-bdappv/lib/python3.10/site-packages (from torch>1.7.0->lightning-flash) (1.12)\n",
      "Requirement already satisfied: networkx in /home/david/miniforge3/envs/solar-bdappv/lib/python3.10/site-packages (from torch>1.7.0->lightning-flash) (2.8)\n",
      "Requirement already satisfied: jinja2 in /home/david/miniforge3/envs/solar-bdappv/lib/python3.10/site-packages (from torch>1.7.0->lightning-flash) (3.1.2)\n",
      "Requirement already satisfied: nvidia-cuda-nvrtc-cu11==11.7.99 in /home/david/miniforge3/envs/solar-bdappv/lib/python3.10/site-packages (from torch>1.7.0->lightning-flash) (11.7.99)\n",
      "Requirement already satisfied: nvidia-cuda-runtime-cu11==11.7.99 in /home/david/miniforge3/envs/solar-bdappv/lib/python3.10/site-packages (from torch>1.7.0->lightning-flash) (11.7.99)\n",
      "Requirement already satisfied: nvidia-cuda-cupti-cu11==11.7.101 in /home/david/miniforge3/envs/solar-bdappv/lib/python3.10/site-packages (from torch>1.7.0->lightning-flash) (11.7.101)\n",
      "Requirement already satisfied: nvidia-cudnn-cu11==8.5.0.96 in /home/david/miniforge3/envs/solar-bdappv/lib/python3.10/site-packages (from torch>1.7.0->lightning-flash) (8.5.0.96)\n",
      "Requirement already satisfied: nvidia-cublas-cu11==11.10.3.66 in /home/david/miniforge3/envs/solar-bdappv/lib/python3.10/site-packages (from torch>1.7.0->lightning-flash) (11.10.3.66)\n",
      "Requirement already satisfied: nvidia-cufft-cu11==10.9.0.58 in /home/david/miniforge3/envs/solar-bdappv/lib/python3.10/site-packages (from torch>1.7.0->lightning-flash) (10.9.0.58)\n",
      "Requirement already satisfied: nvidia-curand-cu11==10.2.10.91 in /home/david/miniforge3/envs/solar-bdappv/lib/python3.10/site-packages (from torch>1.7.0->lightning-flash) (10.2.10.91)\n",
      "Requirement already satisfied: nvidia-cusolver-cu11==11.4.0.1 in /home/david/miniforge3/envs/solar-bdappv/lib/python3.10/site-packages (from torch>1.7.0->lightning-flash) (11.4.0.1)\n",
      "Requirement already satisfied: nvidia-cusparse-cu11==11.7.4.91 in /home/david/miniforge3/envs/solar-bdappv/lib/python3.10/site-packages (from torch>1.7.0->lightning-flash) (11.7.4.91)\n",
      "Requirement already satisfied: nvidia-nccl-cu11==2.14.3 in /home/david/miniforge3/envs/solar-bdappv/lib/python3.10/site-packages (from torch>1.7.0->lightning-flash) (2.14.3)\n",
      "Requirement already satisfied: nvidia-nvtx-cu11==11.7.91 in /home/david/miniforge3/envs/solar-bdappv/lib/python3.10/site-packages (from torch>1.7.0->lightning-flash) (11.7.91)\n",
      "Requirement already satisfied: triton==2.0.0 in /home/david/miniforge3/envs/solar-bdappv/lib/python3.10/site-packages (from torch>1.7.0->lightning-flash) (2.0.0)\n",
      "Requirement already satisfied: wheel in /home/david/miniforge3/envs/solar-bdappv/lib/python3.10/site-packages (from nvidia-cublas-cu11==11.10.3.66->torch>1.7.0->lightning-flash) (0.40.0)\n",
      "Requirement already satisfied: cmake in /home/david/miniforge3/envs/solar-bdappv/lib/python3.10/site-packages (from triton==2.0.0->torch>1.7.0->lightning-flash) (3.26.4)\n",
      "Requirement already satisfied: lit in /home/david/miniforge3/envs/solar-bdappv/lib/python3.10/site-packages (from triton==2.0.0->torch>1.7.0->lightning-flash) (16.0.6)\n",
      "Requirement already satisfied: attrs>=17.3.0 in /home/david/miniforge3/envs/solar-bdappv/lib/python3.10/site-packages (from aiohttp!=4.0.0a0,!=4.0.0a1->fsspec[http]>=2022.5.0->lightning-flash) (21.4.0)\n",
      "Requirement already satisfied: charset-normalizer<4.0,>=2.0 in /home/david/miniforge3/envs/solar-bdappv/lib/python3.10/site-packages (from aiohttp!=4.0.0a0,!=4.0.0a1->fsspec[http]>=2022.5.0->lightning-flash) (3.2.0)\n",
      "Requirement already satisfied: multidict<7.0,>=4.5 in /home/david/miniforge3/envs/solar-bdappv/lib/python3.10/site-packages (from aiohttp!=4.0.0a0,!=4.0.0a1->fsspec[http]>=2022.5.0->lightning-flash) (6.0.4)\n",
      "Requirement already satisfied: async-timeout<5.0,>=4.0.0a3 in /home/david/miniforge3/envs/solar-bdappv/lib/python3.10/site-packages (from aiohttp!=4.0.0a0,!=4.0.0a1->fsspec[http]>=2022.5.0->lightning-flash) (4.0.2)\n",
      "Requirement already satisfied: yarl<2.0,>=1.0 in /home/david/miniforge3/envs/solar-bdappv/lib/python3.10/site-packages (from aiohttp!=4.0.0a0,!=4.0.0a1->fsspec[http]>=2022.5.0->lightning-flash) (1.9.2)\n",
      "Requirement already satisfied: frozenlist>=1.1.1 in /home/david/miniforge3/envs/solar-bdappv/lib/python3.10/site-packages (from aiohttp!=4.0.0a0,!=4.0.0a1->fsspec[http]>=2022.5.0->lightning-flash) (1.4.0)\n",
      "Requirement already satisfied: aiosignal>=1.1.2 in /home/david/miniforge3/envs/solar-bdappv/lib/python3.10/site-packages (from aiohttp!=4.0.0a0,!=4.0.0a1->fsspec[http]>=2022.5.0->lightning-flash) (1.3.1)\n",
      "Requirement already satisfied: six>=1.5 in /home/david/miniforge3/envs/solar-bdappv/lib/python3.10/site-packages (from python-dateutil>=2.8.1->pandas>1.1.0->lightning-flash) (1.16.0)\n",
      "Requirement already satisfied: importlib-resources>=1.4.0 in /home/david/miniforge3/envs/solar-bdappv/lib/python3.10/site-packages (from typeshed-client>=2.1.0->jsonargparse[signatures]>=4.22.0->lightning-flash) (5.7.1)\n",
      "Requirement already satisfied: MarkupSafe>=2.0 in /home/david/miniforge3/envs/solar-bdappv/lib/python3.10/site-packages (from jinja2->torch>1.7.0->lightning-flash) (2.1.1)\n",
      "Requirement already satisfied: idna<4,>=2.5 in /home/david/miniforge3/envs/solar-bdappv/lib/python3.10/site-packages (from requests->fsspec[http]>=2022.5.0->lightning-flash) (3.4)\n",
      "Requirement already satisfied: urllib3<3,>=1.21.1 in /home/david/miniforge3/envs/solar-bdappv/lib/python3.10/site-packages (from requests->fsspec[http]>=2022.5.0->lightning-flash) (1.26.16)\n",
      "Requirement already satisfied: certifi>=2017.4.17 in /home/david/miniforge3/envs/solar-bdappv/lib/python3.10/site-packages (from requests->fsspec[http]>=2022.5.0->lightning-flash) (2023.5.7)\n",
      "Requirement already satisfied: mpmath>=0.19 in /home/david/miniforge3/envs/solar-bdappv/lib/python3.10/site-packages (from sympy->torch>1.7.0->lightning-flash) (1.3.0)\n",
      "Note: you may need to restart the kernel to use updated packages.\n"
     ]
    }
   ],
   "source": [
    "%pip install lightning-flash"
   ]
  },
  {
   "cell_type": "code",
   "execution_count": 2,
   "metadata": {},
   "outputs": [
    {
     "ename": "ValueError",
     "evalue": "Found inconsistent files in input folder: img/google/img and mask folder: img/google/mask. All input files must have a corresponding mask file with the same name.",
     "output_type": "error",
     "traceback": [
      "\u001b[0;31m---------------------------------------------------------------------------\u001b[0m",
      "\u001b[0;31mValueError\u001b[0m                                Traceback (most recent call last)",
      "\u001b[1;32m/home/david/Datasets/solar/geospatial/bdappv/data_parsing.ipynb Cell 3\u001b[0m in \u001b[0;36m<cell line: 3>\u001b[0;34m()\u001b[0m\n\u001b[1;32m      <a href='vscode-notebook-cell:/home/david/Datasets/solar/geospatial/bdappv/data_parsing.ipynb#X10sZmlsZQ%3D%3D?line=0'>1</a>\u001b[0m \u001b[39mfrom\u001b[39;00m \u001b[39mflash\u001b[39;00m\u001b[39m.\u001b[39;00m\u001b[39mimage\u001b[39;00m \u001b[39mimport\u001b[39;00m SemanticSegmentationData\n\u001b[0;32m----> <a href='vscode-notebook-cell:/home/david/Datasets/solar/geospatial/bdappv/data_parsing.ipynb#X10sZmlsZQ%3D%3D?line=2'>3</a>\u001b[0m dm \u001b[39m=\u001b[39m SemanticSegmentationData\u001b[39m.\u001b[39;49mfrom_folders(\n\u001b[1;32m      <a href='vscode-notebook-cell:/home/david/Datasets/solar/geospatial/bdappv/data_parsing.ipynb#X10sZmlsZQ%3D%3D?line=3'>4</a>\u001b[0m     train_folder\u001b[39m=\u001b[39;49m\u001b[39m\"\u001b[39;49m\u001b[39mimg/google/img\u001b[39;49m\u001b[39m\"\u001b[39;49m,\n\u001b[1;32m      <a href='vscode-notebook-cell:/home/david/Datasets/solar/geospatial/bdappv/data_parsing.ipynb#X10sZmlsZQ%3D%3D?line=4'>5</a>\u001b[0m     train_target_folder\u001b[39m=\u001b[39;49m\u001b[39m\"\u001b[39;49m\u001b[39mimg/google/mask\u001b[39;49m\u001b[39m\"\u001b[39;49m,\n\u001b[1;32m      <a href='vscode-notebook-cell:/home/david/Datasets/solar/geospatial/bdappv/data_parsing.ipynb#X10sZmlsZQ%3D%3D?line=5'>6</a>\u001b[0m     val_split\u001b[39m=\u001b[39;49m\u001b[39m0.1\u001b[39;49m,\n\u001b[1;32m      <a href='vscode-notebook-cell:/home/david/Datasets/solar/geospatial/bdappv/data_parsing.ipynb#X10sZmlsZQ%3D%3D?line=6'>7</a>\u001b[0m     image_size\u001b[39m=\u001b[39;49m(\u001b[39m256\u001b[39;49m, \u001b[39m256\u001b[39;49m),\n\u001b[1;32m      <a href='vscode-notebook-cell:/home/david/Datasets/solar/geospatial/bdappv/data_parsing.ipynb#X10sZmlsZQ%3D%3D?line=7'>8</a>\u001b[0m     num_classes\u001b[39m=\u001b[39;49m\u001b[39m1\u001b[39;49m,\n\u001b[1;32m      <a href='vscode-notebook-cell:/home/david/Datasets/solar/geospatial/bdappv/data_parsing.ipynb#X10sZmlsZQ%3D%3D?line=8'>9</a>\u001b[0m )\n",
      "File \u001b[0;32m~/miniforge3/envs/solar-bdappv/lib/python3.10/site-packages/flash/image/segmentation/data.py:293\u001b[0m, in \u001b[0;36mSemanticSegmentationData.from_folders\u001b[0;34m(cls, train_folder, train_target_folder, val_folder, val_target_folder, test_folder, test_target_folder, predict_folder, input_cls, num_classes, labels_map, transform, transform_kwargs, **data_module_kwargs)\u001b[0m\n\u001b[1;32m    178\u001b[0m \u001b[39m\"\"\"Load the :class:`~flash.image.segmentation.data.SemanticSegmentationData` from folders containing image files\u001b[39;00m\n\u001b[1;32m    179\u001b[0m \u001b[39mand folders containing mask files.\u001b[39;00m\n\u001b[1;32m    180\u001b[0m \n\u001b[0;32m   (...)\u001b[0m\n\u001b[1;32m    284\u001b[0m \u001b[39m    >>> shutil.rmtree(\"predict_folder\")\u001b[39;00m\n\u001b[1;32m    285\u001b[0m \u001b[39m\"\"\"\u001b[39;00m\n\u001b[1;32m    287\u001b[0m ds_kw \u001b[39m=\u001b[39m {\n\u001b[1;32m    288\u001b[0m     \u001b[39m\"\u001b[39m\u001b[39mnum_classes\u001b[39m\u001b[39m\"\u001b[39m: num_classes,\n\u001b[1;32m    289\u001b[0m     \u001b[39m\"\u001b[39m\u001b[39mlabels_map\u001b[39m\u001b[39m\"\u001b[39m: labels_map,\n\u001b[1;32m    290\u001b[0m }\n\u001b[1;32m    292\u001b[0m \u001b[39mreturn\u001b[39;00m \u001b[39mcls\u001b[39m(\n\u001b[0;32m--> 293\u001b[0m     input_cls(RunningStage\u001b[39m.\u001b[39;49mTRAINING, train_folder, train_target_folder, \u001b[39m*\u001b[39;49m\u001b[39m*\u001b[39;49mds_kw),\n\u001b[1;32m    294\u001b[0m     input_cls(RunningStage\u001b[39m.\u001b[39mVALIDATING, val_folder, val_target_folder, \u001b[39m*\u001b[39m\u001b[39m*\u001b[39mds_kw),\n\u001b[1;32m    295\u001b[0m     input_cls(RunningStage\u001b[39m.\u001b[39mTESTING, test_folder, test_target_folder, \u001b[39m*\u001b[39m\u001b[39m*\u001b[39mds_kw),\n\u001b[1;32m    296\u001b[0m     input_cls(RunningStage\u001b[39m.\u001b[39mPREDICTING, predict_folder, \u001b[39m*\u001b[39m\u001b[39m*\u001b[39mds_kw),\n\u001b[1;32m    297\u001b[0m     transform\u001b[39m=\u001b[39mtransform,\n\u001b[1;32m    298\u001b[0m     transform_kwargs\u001b[39m=\u001b[39mtransform_kwargs,\n\u001b[1;32m    299\u001b[0m     \u001b[39m*\u001b[39m\u001b[39m*\u001b[39mdata_module_kwargs,\n\u001b[1;32m    300\u001b[0m )\n",
      "File \u001b[0;32m~/miniforge3/envs/solar-bdappv/lib/python3.10/site-packages/flash/core/data/io/input.py:130\u001b[0m, in \u001b[0;36m_wrap_init.<locals>.wrapper\u001b[0;34m(self, *args, **kwargs)\u001b[0m\n\u001b[1;32m    128\u001b[0m \u001b[39m@functools\u001b[39m\u001b[39m.\u001b[39mwraps(fn)\n\u001b[1;32m    129\u001b[0m \u001b[39mdef\u001b[39;00m \u001b[39mwrapper\u001b[39m(\u001b[39mself\u001b[39m, \u001b[39m*\u001b[39margs, \u001b[39m*\u001b[39m\u001b[39m*\u001b[39mkwargs):\n\u001b[0;32m--> 130\u001b[0m     fn(\u001b[39mself\u001b[39;49m, \u001b[39m*\u001b[39;49margs, \u001b[39m*\u001b[39;49m\u001b[39m*\u001b[39;49mkwargs)\n\u001b[1;32m    131\u001b[0m     _validate_input(\u001b[39mself\u001b[39m)\n",
      "File \u001b[0;32m~/miniforge3/envs/solar-bdappv/lib/python3.10/site-packages/flash/core/data/io/input.py:170\u001b[0m, in \u001b[0;36mInputBase.__init__\u001b[0;34m(self, running_stage, *args, **kwargs)\u001b[0m\n\u001b[1;32m    168\u001b[0m \u001b[39mself\u001b[39m\u001b[39m.\u001b[39mdata \u001b[39m=\u001b[39m \u001b[39mNone\u001b[39;00m\n\u001b[1;32m    169\u001b[0m \u001b[39mif\u001b[39;00m \u001b[39mlen\u001b[39m(args) \u001b[39m>\u001b[39m\u001b[39m=\u001b[39m \u001b[39m1\u001b[39m \u001b[39mand\u001b[39;00m args[\u001b[39m0\u001b[39m] \u001b[39mis\u001b[39;00m \u001b[39mnot\u001b[39;00m \u001b[39mNone\u001b[39;00m:\n\u001b[0;32m--> 170\u001b[0m     \u001b[39mself\u001b[39m\u001b[39m.\u001b[39mdata \u001b[39m=\u001b[39m \u001b[39mgetattr\u001b[39;49m(\u001b[39mself\u001b[39;49m, \u001b[39mf\u001b[39;49m\u001b[39m\"\u001b[39;49m\u001b[39m{\u001b[39;49;00m_STAGES_PREFIX[running_stage]\u001b[39m}\u001b[39;49;00m\u001b[39m_load_data\u001b[39;49m\u001b[39m\"\u001b[39;49m)(\u001b[39m*\u001b[39;49margs, \u001b[39m*\u001b[39;49m\u001b[39m*\u001b[39;49mkwargs)\n",
      "File \u001b[0;32m~/miniforge3/envs/solar-bdappv/lib/python3.10/site-packages/flash/core/data/io/input.py:206\u001b[0m, in \u001b[0;36mInputBase.train_load_data\u001b[0;34m(self, *args, **kwargs)\u001b[0m\n\u001b[1;32m    199\u001b[0m \u001b[39mdef\u001b[39;00m \u001b[39mtrain_load_data\u001b[39m(\u001b[39mself\u001b[39m, \u001b[39m*\u001b[39margs: Any, \u001b[39m*\u001b[39m\u001b[39m*\u001b[39mkwargs: Any) \u001b[39m-\u001b[39m\u001b[39m>\u001b[39m Union[Sequence, Iterable]:\n\u001b[1;32m    200\u001b[0m     \u001b[39m\"\"\"Override the ``train_load_data`` hook with data loading logic that is only required during training.\u001b[39;00m\n\u001b[1;32m    201\u001b[0m \n\u001b[1;32m    202\u001b[0m \u001b[39m    Args:\u001b[39;00m\n\u001b[1;32m    203\u001b[0m \u001b[39m        *args: Any arguments that the input requires.\u001b[39;00m\n\u001b[1;32m    204\u001b[0m \u001b[39m        **kwargs: Any additional keyword arguments that the input requires.\u001b[39;00m\n\u001b[1;32m    205\u001b[0m \u001b[39m    \"\"\"\u001b[39;00m\n\u001b[0;32m--> 206\u001b[0m     \u001b[39mreturn\u001b[39;00m \u001b[39mself\u001b[39;49m\u001b[39m.\u001b[39;49mload_data(\u001b[39m*\u001b[39;49margs, \u001b[39m*\u001b[39;49m\u001b[39m*\u001b[39;49mkwargs)\n",
      "File \u001b[0;32m~/miniforge3/envs/solar-bdappv/lib/python3.10/site-packages/flash/image/segmentation/input.py:117\u001b[0m, in \u001b[0;36mSemanticSegmentationFolderInput.load_data\u001b[0;34m(self, folder, mask_folder, num_classes, labels_map)\u001b[0m\n\u001b[1;32m    114\u001b[0m file_names \u001b[39m=\u001b[39m [os\u001b[39m.\u001b[39mpath\u001b[39m.\u001b[39msplitext(file)[\u001b[39m0\u001b[39m] \u001b[39mfor\u001b[39;00m file \u001b[39min\u001b[39;00m files]\n\u001b[1;32m    116\u001b[0m \u001b[39mif\u001b[39;00m \u001b[39mlen\u001b[39m(\u001b[39mset\u001b[39m(file_names) \u001b[39m-\u001b[39m mask_files\u001b[39m.\u001b[39mkeys()) \u001b[39m!=\u001b[39m \u001b[39m0\u001b[39m:\n\u001b[0;32m--> 117\u001b[0m     \u001b[39mraise\u001b[39;00m \u001b[39mValueError\u001b[39;00m(\n\u001b[1;32m    118\u001b[0m         \u001b[39mf\u001b[39m\u001b[39m\"\u001b[39m\u001b[39mFound inconsistent files in input folder: \u001b[39m\u001b[39m{\u001b[39;00mfolder\u001b[39m}\u001b[39;00m\u001b[39m and mask folder: \u001b[39m\u001b[39m{\u001b[39;00mmask_folder\u001b[39m}\u001b[39;00m\u001b[39m. All input \u001b[39m\u001b[39m\"\u001b[39m\n\u001b[1;32m    119\u001b[0m         \u001b[39mf\u001b[39m\u001b[39m\"\u001b[39m\u001b[39mfiles must have a corresponding mask file with the same name.\u001b[39m\u001b[39m\"\u001b[39m\n\u001b[1;32m    120\u001b[0m     )\n\u001b[1;32m    122\u001b[0m files \u001b[39m=\u001b[39m [os\u001b[39m.\u001b[39mpath\u001b[39m.\u001b[39mjoin(folder, file) \u001b[39mfor\u001b[39;00m file \u001b[39min\u001b[39;00m files]\n\u001b[1;32m    123\u001b[0m mask_files \u001b[39m=\u001b[39m [os\u001b[39m.\u001b[39mpath\u001b[39m.\u001b[39mjoin(mask_folder, mask_files[file_name]) \u001b[39mfor\u001b[39;00m file_name \u001b[39min\u001b[39;00m file_names]\n",
      "\u001b[0;31mValueError\u001b[0m: Found inconsistent files in input folder: img/google/img and mask folder: img/google/mask. All input files must have a corresponding mask file with the same name."
     ]
    }
   ],
   "source": [
    "from flash.image import SemanticSegmentationData\n",
    "\n",
    "dm = SemanticSegmentationData.from_folders(\n",
    "    train_folder=\"img/google/img\",\n",
    "    train_target_folder=\"img/google/mask\",\n",
    "    val_split=0.1,\n",
    "    image_size=(256, 256),\n",
    "    num_classes=1,\n",
    ")"
   ]
  },
  {
   "cell_type": "code",
   "execution_count": null,
   "metadata": {},
   "outputs": [],
   "source": [
    "from flash.image import SemanticSegmentation\n",
    "\n",
    "print(SemanticSegmentation.available_heads())\n",
    "# ['deeplabv3', 'deeplabv3plus', 'fpn', ..., 'unetplusplus']\n",
    "\n",
    "print(SemanticSegmentation.available_backbones(\"fpn\"))\n",
    "# ['densenet121', ..., 'xception'] # + 113 models\n",
    "\n",
    "print(SemanticSegmentation.available_pretrained_weights(\"efficientnet-b0\"))\n",
    "# ['imagenet', 'advprop']\n",
    "\n",
    "model = SemanticSegmentation(head=\"fpn\", backbone=\"efficientnet-b0\", pretrained=\"advprop\", num_classes=dm.num_classes)"
   ]
  },
  {
   "cell_type": "code",
   "execution_count": null,
   "metadata": {},
   "outputs": [],
   "source": [
    "from flash import Trainer\n",
    "\n",
    "trainer = Trainer(max_epochs=3)\n",
    "trainer.finetune(model, datamodule=datamodule, strategy=\"freeze\")\n",
    "trainer.save_checkpoint(\"semantic_segmentation_model.pt\")"
   ]
  },
  {
   "cell_type": "code",
   "execution_count": null,
   "metadata": {},
   "outputs": [],
   "source": [
    "import json\n",
    "import torch\n",
    "class NiiDataset(Dataset):\n",
    "    def __init__(self, train: bool, data_dir: str):\n",
    "        \"\"\"\n",
    "        Args:\n",
    "            train: whether to use the training or the validation split\n",
    "            data_dir: directory containing the data\n",
    "        \"\"\"\n",
    "        with open(os.path.join(data_dir, 'dataset.json')) as f:\n",
    "            content = json.load(f)['training']\n",
    "\n",
    "            num_train_samples = int(len(content) * 0.9)\n",
    "\n",
    "            # Split train data into training and validation,\n",
    "            # since test data contains no ground truth\n",
    "            if train:\n",
    "                data = content[:num_train_samples]\n",
    "            else:\n",
    "                data = content[num_train_samples:]\n",
    "\n",
    "            self.data = data\n",
    "            self.data_dir = data_dir\n",
    "\n",
    "    def __getitem__(self, item: int) -> dict:\n",
    "        \"\"\"\n",
    "        Loads and Returns a single sample\n",
    "\n",
    "        Args:\n",
    "            item: index specifying which item to load\n",
    "\n",
    "        Returns:\n",
    "            dict: the loaded sample\n",
    "        \"\"\"\n",
    "        sample = self.data[item]\n",
    "        img = sitk.GetArrayFromImage(\n",
    "            sitk.ReadImage(os.path.join(self.data_dir, sample['image'])))\n",
    "\n",
    "        # add channel dim if necesary\n",
    "        if img.ndim == 3:\n",
    "            img = img[None]\n",
    "\n",
    "        label = sitk.GetArrayFromImage(\n",
    "            sitk.ReadImage(os.path.join(self.data_dir, sample['label'])))\n",
    "\n",
    "        # convert multiclass to binary task by combining all positives\n",
    "        label = label > 0\n",
    "\n",
    "        # add channel dim if necessary\n",
    "        if label.ndim == 3:\n",
    "            label = label[None]\n",
    "        return {'data': torch.from_numpy(img).float(),\n",
    "                'label': torch.from_numpy(label).float()}\n",
    "\n",
    "    def __len__(self) -> int:\n",
    "        \"\"\"\n",
    "        Adds a length to the dataset\n",
    "\n",
    "        Returns:\n",
    "            int: dataset's length\n",
    "        \"\"\"\n",
    "        return len(self.data)"
   ]
  },
  {
   "cell_type": "code",
   "execution_count": null,
   "metadata": {},
   "outputs": [],
   "source": []
  }
 ],
 "metadata": {
  "kernelspec": {
   "display_name": "solar-bdappv",
   "language": "python",
   "name": "python3"
  },
  "language_info": {
   "codemirror_mode": {
    "name": "ipython",
    "version": 3
   },
   "file_extension": ".py",
   "mimetype": "text/x-python",
   "name": "python",
   "nbconvert_exporter": "python",
   "pygments_lexer": "ipython3",
   "version": "3.10.12"
  },
  "orig_nbformat": 4
 },
 "nbformat": 4,
 "nbformat_minor": 2
}
