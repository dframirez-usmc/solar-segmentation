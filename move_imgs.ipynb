{
 "cells": [
  {
   "cell_type": "code",
   "execution_count": null,
   "metadata": {},
   "outputs": [],
   "source": [
    "# you only need to run this once for data setup\n",
    "\n",
    "import os\n",
    "import glob\n",
    "import shutil\n",
    "\n",
    "# Sanitiy check your current working directory\n",
    "current_directory = os.getcwd()\n",
    "print(current_directory)\n",
    "\n",
    "# Go get some google image paths\n",
    "google_imgs = glob.glob(\"img/google/img/*.png\")\n",
    "print(len(google_imgs))\n",
    "\n",
    "# Go get some google image mask paths\n",
    "google_masks = glob.glob(\"img/google/mask/*.png\")\n",
    "print(len(google_masks))\n",
    "\n",
    "# What do the file names look like?\n",
    "print(google_imgs[0])\n",
    "print(google_masks[0])\n",
    "\n",
    "# Strip the path from the filename\n",
    "# Build a big list of file names\n",
    "google_img_files = []\n",
    "for path in google_imgs:\n",
    "    google_img_files.append(os.path.basename(path))\n",
    "google_mask_files = []\n",
    "for path in google_masks:\n",
    "    google_mask_files.append(os.path.basename(path))\n",
    "\n",
    "# Print out your total filenames\n",
    "print(len(google_img_files))\n",
    "print(len(google_mask_files))\n",
    "\n",
    "# Search for matching filenames\n",
    "# Move the images which match\n",
    "for mask_filename in google_mask_files:\n",
    "    if mask_filename in google_img_files:\n",
    "        move_to_img_path = os.path.join(\"img/google/img-matched\", mask_filename)\n",
    "        move_from_img_path = os.path.join(\"img/google/img\", mask_filename)\n",
    "        shutil.move(move_from_img_path, move_to_img_path)\n",
    "\n",
    "# Count and report new file lists\n",
    "google_img_matched = glob.glob(\"img/google/img-matched/*.png\")\n",
    "print(len(google_img_matched))\n",
    "google_masks = glob.glob(\"img/google/mask/*.png\")\n",
    "print(len(google_masks))"
   ]
  }
 ],
 "metadata": {
  "language_info": {
   "name": "python"
  },
  "orig_nbformat": 4
 },
 "nbformat": 4,
 "nbformat_minor": 2
}
